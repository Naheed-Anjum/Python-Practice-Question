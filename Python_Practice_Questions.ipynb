{
 "cells": [
  {
   "cell_type": "markdown",
   "id": "8490c661",
   "metadata": {},
   "source": [
    "# Section A"
   ]
  },
  {
   "cell_type": "markdown",
   "id": "df3b6c34",
   "metadata": {},
   "source": [
    "Q1. <br>\n",
    "Write a function “cap_first_let” to capitalize the first letter of word in a given string. <br>\n",
    "The functions should also remove any non-alphabetic characters. <br>\n",
    "For example: cap_first_let(thiS IS %$@ Test STr#ing) should return the string : This Is Test String <br>"
   ]
  },
  {
   "cell_type": "code",
   "execution_count": 1,
   "id": "0264b283",
   "metadata": {},
   "outputs": [],
   "source": [
    "#Importing Regular Expression Library\n",
    "import re"
   ]
  },
  {
   "cell_type": "code",
   "execution_count": 2,
   "id": "a3ff3279",
   "metadata": {},
   "outputs": [],
   "source": [
    "#Creating a function called cap_first_let\n",
    "def cap_first_let(original_str):\n",
    "    result = \"\"\n",
    "    \n",
    "    # Split the string and get all words in a list\n",
    "    list_of_words = original_str.split()\n",
    "    print(list_of_words)\n",
    "    \n",
    "    # Iterate over all elements in list\n",
    "    for elem in list_of_words:\n",
    "        print(elem)\n",
    "        \n",
    "        # capitalize first letter of each word and add to a string\n",
    "        elem= re.sub(r'[^\\w]', '', elem)\n",
    "        result = result + \" \" + elem.strip().capitalize()\n",
    "                \n",
    "        \n",
    "    # If result is still empty then return original string else returned capitalized.\n",
    "    if not result:\n",
    "        return original_str\n",
    "    else:\n",
    "        return result"
   ]
  },
  {
   "cell_type": "code",
   "execution_count": 3,
   "id": "670221a8",
   "metadata": {},
   "outputs": [
    {
     "name": "stdout",
     "output_type": "stream",
     "text": [
      "enter your string: thiS IS %$@ Test STr#ing\n",
      "['thiS', 'IS', '%$@', 'Test', 'STr#ing']\n",
      "thiS\n",
      "IS\n",
      "%$@\n",
      "Test\n",
      "STr#ing\n",
      " This Is  Test String\n"
     ]
    }
   ],
   "source": [
    "#Enter the text\n",
    "sample_text = str(input(\"enter your string: \"))\n",
    "\n",
    "#Calling the function and printing the result\n",
    "result = cap_first_let(sample_text)\n",
    "print(result)"
   ]
  },
  {
   "cell_type": "markdown",
   "id": "757b93c0",
   "metadata": {},
   "source": [
    "Q2. <br>\n",
    "Write a function to return unique pairs of numbers that are K-complementary in a given array. <br>\n",
    "Given an array A, pair(A[i],A[j]) is K-complementary if A[i]+A[j] = K. <br>"
   ]
  },
  {
   "cell_type": "code",
   "execution_count": 4,
   "id": "840d002f",
   "metadata": {},
   "outputs": [],
   "source": [
    "#Creating a function called complementry_pair\n",
    "def complementry_pair(sample_array_1,sample_array_2,k):\n",
    "    print(sample_array_1)\n",
    "    print(sample_array_2)\n",
    "    try:\n",
    "        pairs  =[]\n",
    "        for i in sample_array_1:\n",
    "            #print(\"i is\",i)\n",
    "            for j in sample_array_2:\n",
    "                #print(\"j is,\",j)\n",
    "                x = i + j \n",
    "                #print(\"x is\",x)\n",
    "                if i!=j and x==k:\n",
    "                   # print(\"in 3rd loop\")\n",
    "                    pairs.append({i,j})\n",
    "                    #print(pairs)\n",
    "                j+=1\n",
    "            i+=1\n",
    "        return pairs \n",
    "    except Exception as e:\n",
    "        print(e)"
   ]
  },
  {
   "cell_type": "code",
   "execution_count": 5,
   "id": "2618adaf",
   "metadata": {},
   "outputs": [
    {
     "name": "stdout",
     "output_type": "stream",
     "text": [
      "[7, 8, 4, 2, 6]\n",
      "[5, 6, 4, 9, 10, 6]\n",
      "[{5, 7}, {8, 4}, {2, 10}]\n"
     ]
    }
   ],
   "source": [
    "#Calling the function\n",
    "sample_array_1_1= [7,8,4,2,6] \n",
    "sample_array_2_2= [5,6,4,9,10,6]\n",
    "\n",
    "k_1= 12\n",
    "pairs = complementry_pair(sample_array_1_1,sample_array_2_2,k_1)\n",
    "print(pairs)"
   ]
  },
  {
   "cell_type": "markdown",
   "id": "f474813a",
   "metadata": {},
   "source": [
    "Q3. Given a directory, write a function to count the no of text files (.txt) in the directory and its subdirectories."
   ]
  },
  {
   "cell_type": "code",
   "execution_count": 6,
   "id": "0ca1fc25",
   "metadata": {},
   "outputs": [],
   "source": [
    "#Importing Operating System\n",
    "import os"
   ]
  },
  {
   "cell_type": "code",
   "execution_count": 8,
   "id": "125932b5",
   "metadata": {},
   "outputs": [],
   "source": [
    "#Specifying the path to be used\n",
    "path = r'C:\\Users\\AnjumNa\\Downloads\\Data_Analyst'"
   ]
  },
  {
   "cell_type": "code",
   "execution_count": 10,
   "id": "6007207d",
   "metadata": {},
   "outputs": [
    {
     "name": "stdout",
     "output_type": "stream",
     "text": [
      "0\n"
     ]
    }
   ],
   "source": [
    "#Creating a function called text_file_count\n",
    "def text_file_count(path):\n",
    "    os.chdir(path)\n",
    "    count = 0 \n",
    "    try:\n",
    "        for root,dirs,files in os.walk(path):\n",
    "            for file in files:\n",
    "                if file.endswith(\".txt\"):\n",
    "                    # print(\"am in if\")\n",
    "                    count+=1\n",
    "        #print(count)\n",
    "        return count\n",
    "    except Exception as e:\n",
    "        print(e)\n",
    "\n",
    "#Calling the function\n",
    "count=text_file_count(path)\n",
    "print(count)"
   ]
  }
 ],
 "metadata": {
  "kernelspec": {
   "display_name": "Python 3",
   "language": "python",
   "name": "python3"
  },
  "language_info": {
   "codemirror_mode": {
    "name": "ipython",
    "version": 3
   },
   "file_extension": ".py",
   "mimetype": "text/x-python",
   "name": "python",
   "nbconvert_exporter": "python",
   "pygments_lexer": "ipython3",
   "version": "3.8.8"
  }
 },
 "nbformat": 4,
 "nbformat_minor": 5
}
